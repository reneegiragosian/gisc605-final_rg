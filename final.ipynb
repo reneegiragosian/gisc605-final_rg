def howdy_planet():
print("Howdy Planet!")

# or 
howdy_planet= "Howdy Planet!"
print(howdy_planet) 

directions = ["North", "South", "East", "West"]
for direction in directions: print(direction)
